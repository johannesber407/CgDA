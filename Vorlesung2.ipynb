{
 "cells": [
  {
   "cell_type": "code",
   "execution_count": 1,
   "id": "18a816da-efb8-43c3-a204-076e1b1906b3",
   "metadata": {},
   "outputs": [
    {
     "name": "stdout",
     "output_type": "stream",
     "text": [
      "True\n"
     ]
    }
   ],
   "source": [
    "a=42\n",
    "print(a<50)"
   ]
  },
  {
   "cell_type": "code",
   "execution_count": 2,
   "id": "1e25eb8b-5aae-4cb7-84e2-c50a155c429c",
   "metadata": {},
   "outputs": [],
   "source": [
    "import numpy as np"
   ]
  },
  {
   "cell_type": "code",
   "execution_count": 3,
   "id": "c7bbd949-bfc6-4212-ad9a-cb50ef0a5f97",
   "metadata": {},
   "outputs": [],
   "source": [
    "meinArray = np.array([1,2,3,4,])\n"
   ]
  },
  {
   "cell_type": "code",
   "execution_count": null,
   "id": "00af0b67-0fcf-44c8-a76d-fbefe5f7c544",
   "metadata": {},
   "outputs": [],
   "source": []
  }
 ],
 "metadata": {
  "kernelspec": {
   "display_name": "Python 3 (ipykernel)",
   "language": "python",
   "name": "python3"
  },
  "language_info": {
   "codemirror_mode": {
    "name": "ipython",
    "version": 3
   },
   "file_extension": ".py",
   "mimetype": "text/x-python",
   "name": "python",
   "nbconvert_exporter": "python",
   "pygments_lexer": "ipython3",
   "version": "3.9.6"
  }
 },
 "nbformat": 4,
 "nbformat_minor": 5
}
